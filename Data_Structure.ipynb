{
  "nbformat": 4,
  "nbformat_minor": 0,
  "metadata": {
    "colab": {
      "provenance": []
    },
    "kernelspec": {
      "name": "python3",
      "display_name": "Python 3"
    },
    "language_info": {
      "name": "python"
    }
  },
  "cells": [
    {
      "cell_type": "markdown",
      "source": [
        "#Data Type And Structure Questions\n",
        "\n",
        "\n",
        "1. What are data structures, and why are they important?\n",
        "  - A data structure is a way to organise and store data efficiently,enabling us to perform operations on that data effectively. They are important because they enable efficient data access, modification and processing which improves program performance.\n",
        "\n",
        "2.  Explain the difference between mutable and immutable data types with examples?\n",
        "  - Mutable Data types can be modified or editable after creation. Examples are Lists, Dictionaries, Sets. Immutable Data Types can't be modified or changed after creation. Examples are Tuples, Strings, Integers.\n",
        "\n",
        "3. What are the main differences between lists and tuples in Python?\n",
        "  - LISTS:\n",
        "  (a) These are Mutable ie can be modified.\n",
        "  (b) These are slower in performance and less secure for fixed data.\n",
        "  (c) There syntax is defined using square brackets\"[]\".\n",
        "  (d) They are suitable for frequently changing data.\n",
        "\n",
        "  - TUPLES:\n",
        "  (a) These are Immutable ie can't be modified or changed.\n",
        "  (b) They are faster in performance and ensuring data integrity.\n",
        "  (c) There syntax is defined using parentheses \"()\".\n",
        "  (d) They are suitable for fixed data.\n",
        "\n",
        "4. Describe how dictionaries store data.\n",
        "  - Dictionaries stores data values in Key:Value pairs. Dictionary is a collection which is changable and don't allow duplicates.\n",
        "\n",
        "5. Why might you use a set instead of a list in Python?\n",
        "  - We use set instead of list because Sets store unique values only, no duplicates, also they offer faster lookups and also useful for membership checks removing duplicates.\n",
        "\n",
        "6. What is a string in Python, and how is it different from a list?\n",
        "  - A string is a sequence of charecters used for representing textual data. String is enclosed in either single quote ('') or double quote(\"\"). Example - \"HELLO WORLD\". It is different from Lists as these are immutable while lists are mutable.\n",
        "\n",
        "7. How do tuples ensure data integrity in Python?\n",
        "  - Tuples are immutable, their values can't be changed after creation, which ensures that the data remains consistent and unchanged.\n",
        "\n",
        "8. What is a hash table, and how does it relate to dictionaries in Python?\n",
        "  - A hash table stores data using a hashing function to map keys to value. Python dictionaries use hash tables for fast key based lookups.\n",
        "\n",
        "9.  Can lists contain different data types in Python?\n",
        "  - Yes, List can hold multiple data types. It can store strings, float, Int, Bool etc.\n",
        "\n",
        "10. Explain why strings are immutable in Python?\n",
        "  - Strings are immutable to ensure data integrity, which allows safe sharing between functions, and optimize memory usage through interning.\n",
        "\n",
        "11. What advantages do dictionaries offer over lists for certain tasks?\n",
        "  - Advantages are:\n",
        "  (a) Dictionaries provide fast access to values based on their keys.\n",
        "  (b) More meaningful organization using key-value pair.\n",
        "  (c) These have efficient storage of large datasets.\n",
        "\n",
        "12. Describe a scenario where using a tuple would be preferable over a list?\n",
        "  - When defining constant data or fixed data which we don't want to modified at any cost, these Tuples are used, Example days = (\"Monday\", \"Tuesday\", \"Wednesday\"), Here it prevents modification.\n",
        "\n",
        "13. How do sets handle duplicate values in Python?\n",
        "  - Sets automatically removes duplicate values\n",
        "  Example - my_set = {1, 2, 2, 3} #Here Output will be: {1, 2, 3}\n",
        "\n",
        "14. How does the “in” keyword work differently for lists and dictionaries?\n",
        "  - In Lists, it checks for value existence.\n",
        "  Example - 3 in [1, 2, 3]  # True\n",
        "\n",
        "  - In Dictionaries it checks for key existence.\n",
        "  Example - \"name\" in {\"name\": \"Ajay\"} # True\n",
        "\n",
        "15. Can you modify the elements of a tuple? Explain why or why not?\n",
        "  - No, Tuples are immutable, they can't modified. The reasons of immutablity for Tuples are:\n",
        "   * More Memory efficient that lists.\n",
        "   * Data Integrity\n",
        "   * Faster in performance than lists.\n",
        "\n",
        "16. What is a nested dictionary, and give an example of its use case?\n",
        "  - A Nested Dictionary is a Dictionary within another dictionary. Its use cases are:\n",
        "  * Use in Storing Student Records.\n",
        "  * Use in storing Companies Employee details, ie Employee Management System.\n",
        "  * Use in Game Development\n",
        "  * Use in E-commerce product catalog.\n",
        "\n",
        "17. Describe the time complexity of accessing elements in a dictionary?\n",
        "  - The Time complexity of accessing an element in a dictionary depends on whether the key exists and how well the hash function distributes key.\n",
        "  * Dictionaries use hash tables, making lookups, insertions, and deletions fast.\n",
        "  * Worst-case O(n) occurs when hash collisions happen and require linear searches.\n",
        "  * Iterating through a dictionary is always since O(n) since all elements must be visited.   \n",
        "\n",
        "18. In what situations are lists preferred over dictionaries?\n",
        "  - Situations are:\n",
        "  * Maintaining Order - Lists preserve the order of elements, whereas dictionaries didn't.\n",
        "  * Sequential Data - When storing ordered collections like a list of tasks.\n",
        "  * Index based Access - Lists allow access using numeric indices while dictionaries require keys.\n",
        "  * Faster Iteration - Iteration through a list is often faster than list.\n",
        "\n",
        "19. Why are dictionaries considered unordered, and how does that affect data retrieval?\n",
        "  - Dictionaries are considered unordered because:\n",
        "  * Hashing Mechanish - Keys are hashed to determine where values are stored,not in fixed order.\n",
        "  * Dynamic Resizing - When dictionaries grows, rehashing occurs, changing the internal order.\n",
        "\n",
        "  - Effect on Data Retrieval:\n",
        "  * Faster Lookups(O(1)) - Elements are accessed by keys, not positions, making retrival efficient.\n",
        "  * Iteration Order - Items might appears in a different order when iterating.\n",
        "  * No Index-based access.\n",
        "\n",
        "20. Explain the difference between a list and a dictionary in terms of data retrieval?\n",
        "  - Lists use Index-based retrieval:\n",
        "  * To access an element we need its position: my_list[2]\n",
        "  * If position is unknown, searching (value in list) takes O(n) time.\n",
        "\n",
        "  - Dictionaries use Key-based retrieval:\n",
        "  * Elements are accessed using keys: my_dict[\"name\"].\n",
        "  * Lookup is O(1) on average, because of hashing.\n",
        "  * Unlike lists, order doesn't affect retrieval efficiency.\n",
        "\n",
        "\n",
        "\n",
        "\n",
        "\n",
        "\n",
        "  "
      ],
      "metadata": {
        "id": "VtdT0omUdC7X"
      }
    },
    {
      "cell_type": "code",
      "source": [
        "# PRACTICAL BASED QUESTIONS\n",
        "\n",
        "#Write a code to create a string with your name and print it.\n",
        "name = \"Anas Ansari\"\n",
        "print ('My Name is : ', name)\n"
      ],
      "metadata": {
        "colab": {
          "base_uri": "https://localhost:8080/"
        },
        "id": "wj_Y6qj4CU2s",
        "outputId": "f8ffdc41-a81b-4bec-ca30-0d3e3fedb7ab"
      },
      "execution_count": null,
      "outputs": [
        {
          "output_type": "stream",
          "name": "stdout",
          "text": [
            "My Name is :  Anas Ansari\n"
          ]
        }
      ]
    },
    {
      "cell_type": "code",
      "source": [
        "#Write a code to find the length of the string \"Hello World\".\n",
        "\n",
        "string = \"Hello World\"\n",
        "length = len(string)\n",
        "print(\"Length of given String is: \", length)\n"
      ],
      "metadata": {
        "colab": {
          "base_uri": "https://localhost:8080/"
        },
        "id": "B3Eo43Xqhf3T",
        "outputId": "3ba0d10b-ef79-40a4-f4fe-1b398cf93741"
      },
      "execution_count": null,
      "outputs": [
        {
          "output_type": "stream",
          "name": "stdout",
          "text": [
            "Length of given String is:  11\n"
          ]
        }
      ]
    },
    {
      "cell_type": "code",
      "source": [
        "#Write a code to slice the first 3 characters from the string \"Python Programming\".\n",
        "\n",
        "string = \"Python Programming\"\n",
        "sliced_string = string[:3]\n",
        "print(\"First 3 characters: \", sliced_string)"
      ],
      "metadata": {
        "colab": {
          "base_uri": "https://localhost:8080/"
        },
        "id": "PFzMKZBYiS5k",
        "outputId": "3b8acf6d-ef15-482e-efd0-2844de8a3e21"
      },
      "execution_count": null,
      "outputs": [
        {
          "output_type": "stream",
          "name": "stdout",
          "text": [
            "First 3 characters:  Pyt\n"
          ]
        }
      ]
    },
    {
      "cell_type": "code",
      "source": [
        "#Write a code to convert the string \"hello\" to uppercase.\n",
        "string = \"hello\"\n",
        "uppercase_string = string.upper()\n",
        "print(uppercase_string)"
      ],
      "metadata": {
        "colab": {
          "base_uri": "https://localhost:8080/"
        },
        "id": "ff29Mfc2jFq5",
        "outputId": "e92896e9-7538-48c3-8f9f-79d88d155e6c"
      },
      "execution_count": null,
      "outputs": [
        {
          "output_type": "stream",
          "name": "stdout",
          "text": [
            "HELLO\n"
          ]
        }
      ]
    },
    {
      "cell_type": "code",
      "source": [
        "#Write a code to replace the word \"apple\" with \"orange\" in the string \"I like apple\".\n",
        "string = \"I like Apple\"\n",
        "new_string = string.replace(\"Apple\", \"Orange\")\n",
        "print (new_string)"
      ],
      "metadata": {
        "colab": {
          "base_uri": "https://localhost:8080/"
        },
        "id": "RqsIyvXjjLN7",
        "outputId": "d682505f-f6bd-489d-f552-a1af9d99d177"
      },
      "execution_count": null,
      "outputs": [
        {
          "output_type": "stream",
          "name": "stdout",
          "text": [
            "I like Orange\n"
          ]
        }
      ]
    },
    {
      "cell_type": "code",
      "source": [
        "#Write a code to create a list with numbers 1 to 5 and print it.\n",
        "my_list = [1, 2, 3, 4, 5]\n",
        "print(my_list)"
      ],
      "metadata": {
        "colab": {
          "base_uri": "https://localhost:8080/"
        },
        "id": "iHIIU9n2jLql",
        "outputId": "b821d07e-a8c5-4328-802f-a8ca42c39d47"
      },
      "execution_count": null,
      "outputs": [
        {
          "output_type": "stream",
          "name": "stdout",
          "text": [
            "[1, 2, 3, 4, 5]\n"
          ]
        }
      ]
    },
    {
      "cell_type": "code",
      "source": [
        "#Write a code to append the number 10 to the list [1, 2, 3, 4].\n",
        "my_list = [1, 2, 3, 4]\n",
        "my_list.append(10)\n",
        "print(my_list)"
      ],
      "metadata": {
        "colab": {
          "base_uri": "https://localhost:8080/"
        },
        "id": "qkbM_kS8jL9w",
        "outputId": "b7cc3206-6d60-4904-e02c-32730d7e890a"
      },
      "execution_count": null,
      "outputs": [
        {
          "output_type": "stream",
          "name": "stdout",
          "text": [
            "[1, 2, 3, 4, 10]\n"
          ]
        }
      ]
    },
    {
      "cell_type": "code",
      "source": [
        "#Write a code to remove the number 3 from the list [1, 2, 3, 4, 5].\n",
        "my_list = [1, 2, 3, 4, 5]\n",
        "my_list.remove(3)\n",
        "print(my_list)"
      ],
      "metadata": {
        "colab": {
          "base_uri": "https://localhost:8080/"
        },
        "id": "Qub_4efAjMNS",
        "outputId": "4f1dcb25-8d19-4f1b-c5a6-9f0c605b2bdf"
      },
      "execution_count": null,
      "outputs": [
        {
          "output_type": "stream",
          "name": "stdout",
          "text": [
            "[1, 2, 4, 5]\n"
          ]
        }
      ]
    },
    {
      "cell_type": "code",
      "source": [
        "#Write a code to access the second element in the list ['a', 'b', 'c', 'd']\n",
        "my_list = [\"a\", \"b\", \"c\", \"d\"]\n",
        "print(my_list[1])"
      ],
      "metadata": {
        "colab": {
          "base_uri": "https://localhost:8080/"
        },
        "id": "NIiz0WbyjFnc",
        "outputId": "2a95fe54-cf32-4017-9bd3-d8a2efc5e095"
      },
      "execution_count": null,
      "outputs": [
        {
          "output_type": "stream",
          "name": "stdout",
          "text": [
            "b\n"
          ]
        }
      ]
    },
    {
      "cell_type": "code",
      "source": [
        "#Write a code to reverse the list [10, 20, 30, 40, 50]\n",
        "my_list = [10, 20, 30, 40, 50]\n",
        "my_list.reverse()\n",
        "print(my_list)"
      ],
      "metadata": {
        "colab": {
          "base_uri": "https://localhost:8080/"
        },
        "id": "6-rFdmMRjFlU",
        "outputId": "91034147-9d6b-41bd-91b0-78237a037fc6"
      },
      "execution_count": null,
      "outputs": [
        {
          "output_type": "stream",
          "name": "stdout",
          "text": [
            "[50, 40, 30, 20, 10]\n"
          ]
        }
      ]
    },
    {
      "cell_type": "code",
      "source": [
        "#.Write a code to create a tuple with the elements 100, 200, 300 and print it\n",
        "my_tuple = (100, 200, 300)\n",
        "print(my_tuple)\n",
        "type(my_tuple)"
      ],
      "metadata": {
        "colab": {
          "base_uri": "https://localhost:8080/"
        },
        "id": "FgS-9QnvmqFy",
        "outputId": "20a279b1-d0b0-4200-a15d-152b962f9017"
      },
      "execution_count": null,
      "outputs": [
        {
          "output_type": "stream",
          "name": "stdout",
          "text": [
            "(100, 200, 300)\n"
          ]
        },
        {
          "output_type": "execute_result",
          "data": {
            "text/plain": [
              "tuple"
            ]
          },
          "metadata": {},
          "execution_count": 15
        }
      ]
    },
    {
      "cell_type": "code",
      "source": [
        "#Write a code to access the second-to-last element of the tuple ('red', 'green', 'blue', 'yellow').\n",
        "my_tuple = ('red', 'green', 'blue', 'yellow')\n",
        "second_last_element = my_tuple[-2]\n",
        "print(second_last_element)"
      ],
      "metadata": {
        "colab": {
          "base_uri": "https://localhost:8080/"
        },
        "id": "67h8-2WKmqbq",
        "outputId": "bf0adf4c-fa2e-4edc-8d06-06c1c8a2673a"
      },
      "execution_count": null,
      "outputs": [
        {
          "output_type": "stream",
          "name": "stdout",
          "text": [
            "blue\n"
          ]
        }
      ]
    },
    {
      "cell_type": "code",
      "source": [
        "#Write a code to find the minimum number in the tuple (10, 20, 5, 15)\n",
        "my_tuple = (10, 20, 5, 15)\n",
        "minimum_number = min(my_tuple)\n",
        "print(\"Minimum Number is: \", minimum_number)\n",
        "type(my_tuple)"
      ],
      "metadata": {
        "colab": {
          "base_uri": "https://localhost:8080/"
        },
        "id": "6UL_w-e2mqp9",
        "outputId": "16224aec-a40e-4d75-9311-5c33fd55aeed"
      },
      "execution_count": null,
      "outputs": [
        {
          "output_type": "stream",
          "name": "stdout",
          "text": [
            "Minimum Number is:  5\n"
          ]
        },
        {
          "output_type": "execute_result",
          "data": {
            "text/plain": [
              "tuple"
            ]
          },
          "metadata": {},
          "execution_count": 20
        }
      ]
    },
    {
      "cell_type": "code",
      "source": [
        "#Write a code to find the index of the element \"cat\" in the tuple ('dog', 'cat', 'rabbit').\n",
        "my_tuple = (\"dog\", \"cat\", \"rabbit\")\n",
        "index_of_cat = my_tuple.index(\"cat\")\n",
        "print(index_of_cat)"
      ],
      "metadata": {
        "colab": {
          "base_uri": "https://localhost:8080/"
        },
        "id": "rn8w_AnAmq3_",
        "outputId": "5f318c45-e08d-431d-dd44-3fa62a6c9c10"
      },
      "execution_count": null,
      "outputs": [
        {
          "output_type": "stream",
          "name": "stdout",
          "text": [
            "1\n"
          ]
        }
      ]
    },
    {
      "cell_type": "code",
      "source": [
        "#Write a code to create a tuple containing three different fruits and check if \"kiwi\" is in it.\n",
        "friuts = (\"apple\", \"banana\", \"mango\")\n",
        "presence_of_kiwi = \"kiwi\" in friuts\n",
        "print(\"Is kiwi in the tuple : \", presence_of_kiwi) #absence of 'kiwi'\n",
        "\n",
        "friuts2 = (\"apple\", \"banana\", \"kiwi\")\n",
        "presence_of_kiwi = \"kiwi\" in friuts2\n",
        "print(\"Is kiwi in the tuple : \", presence_of_kiwi) #presence of 'kiwi'"
      ],
      "metadata": {
        "colab": {
          "base_uri": "https://localhost:8080/"
        },
        "id": "PlfdDwtpmrCe",
        "outputId": "3e1e54c1-e218-469c-9cf8-0faabc6af1a4"
      },
      "execution_count": null,
      "outputs": [
        {
          "output_type": "stream",
          "name": "stdout",
          "text": [
            "Is kiwi in the tuple :  False\n",
            "Is kiwi in the tuple :  True\n"
          ]
        }
      ]
    },
    {
      "cell_type": "code",
      "source": [
        "#Write a code to create a set with the elements 'a', 'b', 'c' and print it.\n",
        "my_set = {'a', 'b', 'c'}\n",
        "print(my_set)\n",
        "type(my_set)"
      ],
      "metadata": {
        "colab": {
          "base_uri": "https://localhost:8080/"
        },
        "id": "5trFUJ6cs0Sr",
        "outputId": "c6269d44-3d29-4154-ec0c-90ee5294138c"
      },
      "execution_count": null,
      "outputs": [
        {
          "output_type": "stream",
          "name": "stdout",
          "text": [
            "{'a', 'b', 'c'}\n"
          ]
        },
        {
          "output_type": "execute_result",
          "data": {
            "text/plain": [
              "set"
            ]
          },
          "metadata": {},
          "execution_count": 30
        }
      ]
    },
    {
      "cell_type": "code",
      "source": [
        "#Write a code to clear all elements from the set {1, 2, 3, 4, 5}.\n",
        "my_set = {'1', '2', '3', '4', '5'}\n",
        "my_set.clear()\n",
        "print(my_set)"
      ],
      "metadata": {
        "colab": {
          "base_uri": "https://localhost:8080/"
        },
        "id": "NQ8RNk8js0bV",
        "outputId": "de0ee8bb-2c7e-4ab5-f2e6-3395c3a6de0b"
      },
      "execution_count": null,
      "outputs": [
        {
          "output_type": "stream",
          "name": "stdout",
          "text": [
            "set()\n"
          ]
        }
      ]
    },
    {
      "cell_type": "code",
      "source": [
        "# Write a code to remove the element 4 from the set {1, 2, 3, 4}.\n",
        "my_set = {1, 2, 3, 4}\n",
        "my_set.remove(4)\n",
        "print(my_set)"
      ],
      "metadata": {
        "colab": {
          "base_uri": "https://localhost:8080/"
        },
        "id": "QsmNLJx3s0gx",
        "outputId": "ffe42b57-6850-4560-8f60-560a214a684c"
      },
      "execution_count": null,
      "outputs": [
        {
          "output_type": "stream",
          "name": "stdout",
          "text": [
            "{1, 2, 3}\n"
          ]
        }
      ]
    },
    {
      "cell_type": "code",
      "source": [
        "# Write a code to find the union of two sets {1, 2, 3} and {3, 4, 5}.\n",
        "set1 = {1, 2, 3}\n",
        "set2 = {3, 4, 5}\n",
        "set1.union(set2)\n"
      ],
      "metadata": {
        "colab": {
          "base_uri": "https://localhost:8080/"
        },
        "id": "jej_-PN8s0lG",
        "outputId": "7a346ec6-5699-4dff-efeb-87bb087225ca"
      },
      "execution_count": null,
      "outputs": [
        {
          "output_type": "execute_result",
          "data": {
            "text/plain": [
              "{1, 2, 3, 4, 5}"
            ]
          },
          "metadata": {},
          "execution_count": 36
        }
      ]
    },
    {
      "cell_type": "code",
      "source": [
        "#Write a code to find the intersection of two sets {1, 2, 3} and {2, 3, 4}.\n",
        "set1 = {1, 2, 3}\n",
        "set2 = {2, 3, 4}\n",
        "set1.intersection(set2)"
      ],
      "metadata": {
        "colab": {
          "base_uri": "https://localhost:8080/"
        },
        "id": "VI_mFS6vs0oS",
        "outputId": "abe6c06b-2874-4b23-ea51-4b40aeda61c8"
      },
      "execution_count": null,
      "outputs": [
        {
          "output_type": "execute_result",
          "data": {
            "text/plain": [
              "{2, 3}"
            ]
          },
          "metadata": {},
          "execution_count": 37
        }
      ]
    },
    {
      "cell_type": "code",
      "source": [
        "# Write a code to create a dictionary with the keys \"name\", \"age\", and \"city\", and print it.\n",
        "my_dict = {\"name\" : 'Anas Ansari', \"age\" : 25, \"city\" : 'Delhi'}\n",
        "print (my_dict)\n",
        "type(my_dict)"
      ],
      "metadata": {
        "colab": {
          "base_uri": "https://localhost:8080/"
        },
        "id": "cWg51q93xE1C",
        "outputId": "432dcf68-4734-4ce7-c036-4f994c4ee486"
      },
      "execution_count": null,
      "outputs": [
        {
          "output_type": "stream",
          "name": "stdout",
          "text": [
            "{'name': 'Anas Ansari', 'age': 25, 'city': 'Delhi'}\n"
          ]
        },
        {
          "output_type": "execute_result",
          "data": {
            "text/plain": [
              "dict"
            ]
          },
          "metadata": {},
          "execution_count": 44
        }
      ]
    },
    {
      "cell_type": "code",
      "source": [
        "#Write a code to add a new key-value pair \"country\": \"USA\" to the dictionary {'name': 'John', 'age': 25}\n",
        "my_dict = {'name' : 'John', 'age' : '25'}\n",
        "print(my_dict)\n",
        "my_dict['counrty'] = 'USA' #we add counrty : USA to the dictionary\n",
        "print(my_dict)\n"
      ],
      "metadata": {
        "colab": {
          "base_uri": "https://localhost:8080/"
        },
        "id": "oKJtmzmOxEmU",
        "outputId": "63cbe5d6-86de-40b4-8193-3e245f7f886e"
      },
      "execution_count": null,
      "outputs": [
        {
          "output_type": "stream",
          "name": "stdout",
          "text": [
            "{'name': 'John', 'age': '25'}\n",
            "{'name': 'John', 'age': '25', 'counrty': 'USA'}\n"
          ]
        }
      ]
    },
    {
      "cell_type": "code",
      "source": [
        "#Write a code to access the value associated with the key \"name\" in the dictionary {'name': 'Alice', 'age': 30}\n",
        "my_dict = {'name': 'Alice', 'age': 30}\n",
        "print(my_dict[\"name\"])"
      ],
      "metadata": {
        "colab": {
          "base_uri": "https://localhost:8080/"
        },
        "id": "1MkvppMzzC6Z",
        "outputId": "904f374c-c1ad-49b1-9e10-3879d159fb5a"
      },
      "execution_count": null,
      "outputs": [
        {
          "output_type": "stream",
          "name": "stdout",
          "text": [
            "Alice\n"
          ]
        }
      ]
    },
    {
      "cell_type": "code",
      "source": [
        "# Write a code to remove the key \"age\" from the dictionary {'name': 'Bob', 'age': 22, 'city': 'New York'}.\n",
        "my_dict = {'name' : 'Bob', 'age' : 22, 'city' : 'New York'}\n",
        "my_dict.pop('age')\n",
        "print(my_dict)"
      ],
      "metadata": {
        "colab": {
          "base_uri": "https://localhost:8080/"
        },
        "id": "uXckq1_DzDJN",
        "outputId": "93481bab-0b56-45bb-c337-12401c41ffec"
      },
      "execution_count": null,
      "outputs": [
        {
          "output_type": "stream",
          "name": "stdout",
          "text": [
            "{'name': 'Bob', 'city': 'New York'}\n"
          ]
        }
      ]
    },
    {
      "cell_type": "code",
      "source": [
        "#Write a code to check if the key \"city\" exists in the dictionary {'name': 'Alice', 'city': 'Paris'}.\n",
        "my_dict = {'name' : 'Alice', 'city' : 'Paris'}\n",
        "print('city' in my_dict)\n"
      ],
      "metadata": {
        "colab": {
          "base_uri": "https://localhost:8080/"
        },
        "id": "1bJ0aRqMzDQn",
        "outputId": "13a52bc3-2088-4390-8f77-268df392baf6"
      },
      "execution_count": null,
      "outputs": [
        {
          "output_type": "stream",
          "name": "stdout",
          "text": [
            "True\n"
          ]
        }
      ]
    },
    {
      "cell_type": "code",
      "source": [
        "#Write a code to create a list, a tuple, and a dictionary, and print them all.\n",
        "my_list = [2, 5, 8 , 10, 15]\n",
        "my_tuple = (7, 5, 98, 2, 25)\n",
        "my_dict = {\"name\" : 'Anas Ansari', \"course\" : \"Masters In Data Science\", \"college\" : \"Coventry University, UK\"}\n",
        "print(my_list, my_tuple, my_dict) #OR in different lines\n",
        "print('List: ', my_list)\n",
        "print('Tuple: ', my_tuple)\n",
        "print('Dictionary: ', my_dict)"
      ],
      "metadata": {
        "colab": {
          "base_uri": "https://localhost:8080/"
        },
        "id": "YNdCs48G471e",
        "outputId": "be469f9a-6efa-4fb7-b2cf-e87d0194cc11"
      },
      "execution_count": null,
      "outputs": [
        {
          "output_type": "stream",
          "name": "stdout",
          "text": [
            "[2, 5, 8, 10, 15] (7, 5, 98, 2, 25) {'name': 'Anas Ansari', 'course': 'Masters In Data Science', 'college': 'Coventry University, UK'}\n",
            "List:  [2, 5, 8, 10, 15]\n",
            "Tuple:  (7, 5, 98, 2, 25)\n",
            "Dictionary:  {'name': 'Anas Ansari', 'course': 'Masters In Data Science', 'college': 'Coventry University, UK'}\n"
          ]
        }
      ]
    },
    {
      "cell_type": "code",
      "source": [
        "# Write a code to create a list of 5 random numbers between 1 and 100, sort it in ascending order, and print the result.\n",
        "import random\n",
        "random_numbers = random.sample(range(1,100),5)\n",
        "print(random_numbers)\n",
        "\n",
        "#Now to sort it in ascending order\n",
        "random_numbers.sort()\n",
        "print('Sorted Random Numbers are: ', random_numbers)"
      ],
      "metadata": {
        "colab": {
          "base_uri": "https://localhost:8080/"
        },
        "id": "mvyTo7ff47sv",
        "outputId": "8defcaf5-7151-4596-a182-6fd0fdd6fff1"
      },
      "execution_count": null,
      "outputs": [
        {
          "output_type": "stream",
          "name": "stdout",
          "text": [
            "[59, 6, 66, 41, 26]\n",
            "Sorted Random Numbers are:  [6, 26, 41, 59, 66]\n"
          ]
        }
      ]
    },
    {
      "cell_type": "code",
      "source": [
        "#Write a code to create a list with strings and print the element at the third index.\n",
        "string_list = ['apple', 'banana', 'mango', 'grapes', 'orange']\n",
        "print(string_list[2])"
      ],
      "metadata": {
        "colab": {
          "base_uri": "https://localhost:8080/"
        },
        "id": "7t0hTiaH47jx",
        "outputId": "aad0714d-394f-456c-eaf7-1d8c92e28815"
      },
      "execution_count": null,
      "outputs": [
        {
          "output_type": "stream",
          "name": "stdout",
          "text": [
            "mango\n"
          ]
        }
      ]
    },
    {
      "cell_type": "code",
      "source": [
        "#Write a code to combine two dictionaries into one and print the result.\n",
        "dict1 = {'a' : 1, 'b' : 2, 'c' : 3}\n",
        "dict2 = {'d' : 4, 'e' : 5, 'f' : 6}\n",
        "D = {**dict1, **dict2}\n",
        "print (\"Combined_dictionary: \", D)"
      ],
      "metadata": {
        "colab": {
          "base_uri": "https://localhost:8080/"
        },
        "id": "7S1iYFtr47Xq",
        "outputId": "877e4e76-58f3-4793-cb98-7366c097adec"
      },
      "execution_count": null,
      "outputs": [
        {
          "output_type": "stream",
          "name": "stdout",
          "text": [
            "Combined_dictionary:  {'a': 1, 'b': 2, 'c': 3, 'd': 4, 'e': 5, 'f': 6}\n"
          ]
        }
      ]
    },
    {
      "cell_type": "code",
      "source": [
        "#  Write a code to convert a list of strings into a set.\n",
        "my_list = ['acer', 'dell', 'sony', 'msi', 'lenovo', 'hp']\n",
        "a = set(my_list)\n",
        "print('Converted Set: ', a)\n",
        "type(a)\n"
      ],
      "metadata": {
        "colab": {
          "base_uri": "https://localhost:8080/"
        },
        "id": "T5CcBgxNBELd",
        "outputId": "c08e52a2-b234-412f-fa95-f9b30337823b"
      },
      "execution_count": null,
      "outputs": [
        {
          "output_type": "stream",
          "name": "stdout",
          "text": [
            "Converted Set:  {'hp', 'sony', 'acer', 'dell', 'lenovo', 'msi'}\n"
          ]
        },
        {
          "output_type": "execute_result",
          "data": {
            "text/plain": [
              "set"
            ]
          },
          "metadata": {},
          "execution_count": 10
        }
      ]
    }
  ]
}